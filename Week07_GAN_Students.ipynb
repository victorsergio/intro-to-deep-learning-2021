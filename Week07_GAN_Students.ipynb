{
  "nbformat": 4,
  "nbformat_minor": 0,
  "metadata": {
    "colab": {
      "name": "Week07-GAN-Students.ipynb",
      "provenance": [],
      "collapsed_sections": [],
      "include_colab_link": true
    },
    "kernelspec": {
      "name": "python3",
      "display_name": "Python 3"
    }
  },
  "cells": [
    {
      "cell_type": "markdown",
      "metadata": {
        "id": "view-in-github",
        "colab_type": "text"
      },
      "source": [
        "<a href=\"https://colab.research.google.com/github/victorsergio/intro-to-deep-learning-2021/blob/main/Week07_GAN_Students.ipynb\" target=\"_parent\"><img src=\"https://colab.research.google.com/assets/colab-badge.svg\" alt=\"Open In Colab\"/></a>"
      ]
    },
    {
      "cell_type": "markdown",
      "metadata": {
        "id": "cpwTxfsGN5Qj"
      },
      "source": [
        "# **Copyright Information**\n",
        "\n",
        "####Copyright David Gündisch\n",
        "#####El código original de este tutorial pertenece a David Gündisch. Este código fue modificado agregando comentarios, explicaciones e imágenes para ser una práctica interactiva educativa.\n"
      ]
    },
    {
      "cell_type": "markdown",
      "metadata": {
        "id": "6tHDd2Aye8zf"
      },
      "source": [
        "### **Laboratorio 8: Redes Generativas Adversariales**\n",
        "En este laboratorio crearemos una Red Generativa Adversarial para generar nuevas imágenes de dígitos, similares a los dígitos del dataset MNIST.\n",
        "\n",
        "**Nota: recuerde activar la conexión entre Google Colab y Google Drive**\n"
      ]
    },
    {
      "cell_type": "code",
      "metadata": {
        "id": "dt4Byq00Z0Nt",
        "colab": {
          "base_uri": "https://localhost:8080/",
          "height": 35
        },
        "outputId": "71dcbaef-fa5c-4c9f-952b-9f0a0ca226a2"
      },
      "source": [
        "from __future__ import absolute_import, division, print_function, unicode_literals\n",
        "\n",
        "# Install TensorFlow\n",
        "try:\n",
        "  # %tensorflow_version only works in Colab.\n",
        "  %tensorflow_version 2.x\n",
        "except Exception:\n",
        "  pass\n",
        "\n",
        "import tensorflow as tf"
      ],
      "execution_count": null,
      "outputs": [
        {
          "output_type": "stream",
          "text": [
            "TensorFlow 2.x selected.\n"
          ],
          "name": "stdout"
        }
      ]
    },
    {
      "cell_type": "code",
      "metadata": {
        "id": "HJf_oqFYZ4Xw"
      },
      "source": [
        "from tensorflow.keras.datasets import mnist\n",
        "from tensorflow.keras.layers import Input, Dense, Reshape, Flatten\n",
        "from tensorflow.keras.layers import BatchNormalization\n",
        "from tensorflow.keras.layers import LeakyReLU\n",
        "from tensorflow.keras.models import Sequential, Model\n",
        "from tensorflow.keras.optimizers import Adam\n",
        "import matplotlib.pyplot as plt\n",
        "import numpy as np"
      ],
      "execution_count": null,
      "outputs": []
    },
    {
      "cell_type": "markdown",
      "metadata": {
        "id": "Tl0V7Eedu7Yt"
      },
      "source": [
        "Las Redes Generativas Adversariales son una forma de generar un modelo utilizando dos redes neurales que compiten una con otra.\n",
        "\n",
        "El **generador** convierte ruido en una imitación de los datos intentando engañar al discriminador.\n",
        "\n",
        "EL **discriminador** intenta identificar los datos reales de los datos falsos creados por el generador.\n",
        "\n",
        "El generador recibe como entrada ruido aleatorio. Solamente el discriminador tiene acceso a los datos de entrenamiento para propósitos de clasificación.\n",
        "El generador mejora el resultado de su salida solamente utilizando la retroalimentación obtenida del discriminador.\n",
        "\n",
        "![texto alternativo](https://www.pngitem.com/pimgs/m/96-965914_a-short-introduction-to-generative-adversarial-networks-generative.png)"
      ]
    },
    {
      "cell_type": "markdown",
      "metadata": {
        "id": "SzMXgUhbu0V2"
      },
      "source": [
        "La clase GAN() contiene los métodos necesarios para construir nuestra red y entrenarla."
      ]
    },
    {
      "cell_type": "code",
      "metadata": {
        "id": "E1Od-PHQZ6Qv"
      },
      "source": [
        "class GAN():\n",
        "    def __init__(self):\n",
        "        self.img_rows = 28\n",
        "        self.img_cols = 28\n",
        "        self.channels = 1\n",
        "        self.img_shape = (self.img_rows, self.img_cols, self.channels)\n",
        "        \n",
        "        '''TODO: Especifique la dimensión del espacio latente e.g. 100'''\n",
        "        self.latent_dim = '''TODO'''\n",
        "        '''TODO: Especifique el optimizador que minimiza la función de perdida'''\n",
        "        optimizer = '''TODO'''\n",
        "        \n",
        "        ### Discriminador de la GAN\n",
        "        self.discriminator = self.build_discriminator()\n",
        "\n",
        "         '''TODO: Coloque la función de perdida y la métrica correcta para el discriminador, ponga atención al trabajo\n",
        "        que está realizando el discriminador. e.g. clasificación multiclase, clasificación binaria, regresión.'''\n",
        "        self.discriminator.compile(loss='''TODO''',\n",
        "                                   optimizer=optimizer,\n",
        "                                   metrics=['''TODO'''])\n",
        "        \n",
        "        ### Generador de la GAN\n",
        "        self.generator = self.build_generator()\n",
        "        '''TODO: z es la entrada hacia el generador (vector 1D de ruido). Indique la dimensión de entrada correcta para z.'''\n",
        "        z = Input(shape=('''TODO'''',))\n",
        "        \n",
        "       '''TODO: el generador recibe ruido como entrada y devuelve una imagen'''\n",
        "        img = self.generator('''TODO''')\n",
        "        \n",
        "        '''TODO: No deseamos que la gradiente se propague hacia el discriminador, solamente deseamos propagar las gradientes\n",
        "        hacia el generador'''\n",
        "        self.discriminator.trainable = '''TODO'''\n",
        "\n",
        "        '''TODO: El discriminador recibe la imagen creada por el generador y nos indica si la imagen es verdadera o falsa'''\n",
        "        validity = self.discriminator('''TODO''')\n",
        "        \n",
        "        '''TODO': Creamos un modelo con el generador y el discriminador unidos, especifique la entrada para el modelo completo\n",
        "        y la salida correspondiente. '''\n",
        "        self.combined = Model(inputs= '''TODO''', outputs= '''TODO''')\n",
        "        \n",
        "        self.combined.compile(loss='binary_crossentropy', optimizer=optimizer)\n",
        "\n",
        "    def build_generator(self):\n",
        "        ### Este método construye la parte del generador de la GAN\n",
        "\n",
        "        model = Sequential()\n",
        "\n",
        "        model.add(Dense(256, input_dim=self.latent_dim))\n",
        "        model.add(LeakyReLU(alpha=0.2))\n",
        "        model.add(BatchNormalization(momentum=0.8))\n",
        "        \n",
        "         '''TODO: Agregue una capa totalmente conectada con una función de activación LeakyReLU y BatchNormalization.\n",
        "           Agregue una nueva capa totalmente conectada adicional con función de activación LeakyReLU y BatchNormalization\n",
        "           Recuerde que iniciamos nuestra entrada al generador con la dimensión del espacio latente e.g. 100, debemos ir\n",
        "           aumentando las dimensiones de forma similar a la estructura utilizada en la sección 'decoder' en un autoencoder.\n",
        "           Sabiendo esto debe indicar los valores correctos para la cantidad de salidas en cada capa densa.'''\n",
        "        \n",
        "        '''TODO: capa 1'''\n",
        "        '''TODO: capa 2'''\n",
        "        \n",
        "        ### La penúltima capa del generador es un vector 1D con dimensión ancho_imagen x alto_imagen e.g.784\n",
        "        \n",
        "        model.add(Dense(np.prod(self.img_shape), activation='tanh'))\n",
        "        \n",
        "        '''TODO: Una imagen de un dígito de MNIST es un objeto 2D, nuestra capa anterior es 1D, debemos pasar de 1D (784,) \n",
        "        a 2D (28,28) utilizando Reshape(new_size)'''\n",
        "        model.add('''TODO''')\n",
        "        \n",
        "        model.summary()\n",
        "        \n",
        "        noise = Input(shape=(self.latent_dim,))\n",
        "        img = model(noise)\n",
        "        \n",
        "         '''TODO': La función build_generator() devuelve solamente la red neural que corresponde a la parte del generador.\n",
        "            Recuerde lo que recibe el generador como entrada y que entrega en la salida.'''\n",
        "        return Model(inputs='''TODO''', outputs='''TODO''')\n",
        "\n",
        "    def build_discriminator(self):\n",
        "    \n",
        "        model = Sequential()\n",
        "        ### El discriminador es un clasificador, este clasificador no utiliza CNN, es un clasificador con una FCN, su entrada es un vector 1D\n",
        "        model.add(Flatten(input_shape=self.img_shape))\n",
        "        \n",
        "        '''TODO: agregue dos capas densas con función de activación LeakyRelu'''\n",
        "        '''TODO: capa 1'''\n",
        "        '''TODO: capa 2'''\n",
        "               \n",
        "        \n",
        "        '''TODO: el discriminador es un clasificador. ¿Es un clasificador binario o debe clasificar mas de 2 clases?'''\n",
        "        \n",
        "        model.add(Dense(outputs='''TODO''', activation='''TODO'''))\n",
        "        \n",
        "        model.summary()\n",
        "        \n",
        "        img = Input(shape=self.img_shape)\n",
        "        validity = model(img)\n",
        "        \n",
        "        '''TODO': La función build_discriminator() devuelve solamente la red neural que corresponde a la parte del discriminador.\n",
        "           Recuerde lo que recibe el discriminador como entrada y que entrega en la salida.'''\n",
        "        return Model(inputs='''TODO''', outputs='''TODO''')\n",
        "\n",
        "    def train(self, epochs, batch_size=128, sample_interval=50):\n",
        "        ### Método de entrenamiento de la GAN\n",
        "        \n",
        "        ### Se carga el dataset MNIST\n",
        "        (X_train, _), (_, _) = mnist.load_data()\n",
        "        \n",
        "        ### Escalamos el valor de los pixels al rango (-1,1)\n",
        "        X_train = X_train / 127.5 - 1.\n",
        "        \n",
        "        ### El dataset contiene 60k imágenes de 28x28 pixels, los caracteres son blanco y negro, por lo tanto usualmente \n",
        "        ### el shape del dataset no incluye canales. Expandimos nuestro dataset para indicar que solo tenemos 1 canal.\n",
        "        ### dataset shape  = (60000, 28, 28) -> (60000, 28, 28, 1)\n",
        "        X_train = np.expand_dims(X_train, axis=3)\n",
        "        \n",
        "        ### Etiquetas (labels) para enviar al discriminador para las imágenes verdaderas y falsas. \n",
        "        ### imagen verdadera = 1 , imagen falsa = 0\n",
        "        ### valid.shape = (132, 1)   \n",
        "        ### fake.shape(132,1)\n",
        "        valid = np.ones((batch_size, 1))\n",
        "        fake = np.zeros((batch_size, 1))\n",
        "\n",
        "        ### Proceso iterativo de entrenamiento del modelo\n",
        "        for epoch in range(epochs):\n",
        "            \n",
        "            ### Se carga un batch para entrenamiento\n",
        "            idx = np.random.randint(0, X_train.shape[0], batch_size)\n",
        "            imgs = X_train[idx]\n",
        "            \n",
        "            \n",
        "            noise = np.random.normal(0, 1, (batch_size, self.latent_dim))\n",
        "\n",
        "            '''TODO: train_on_batch ejecuta una única actualización de gradiente con un batch de datos\n",
        "                \n",
        "               Entrenamos el generador en el modelo combinado, utilizando la retroalimentación\n",
        "               que nos da el discriminador.         \n",
        "               Realizamos foward_pass a través del modelo combinado generador + discriminador. \n",
        "               pero en backward_pass solo propagamos la gradiente hacia el generador, logramos esto \n",
        "               porque recuerde que anteriormente indicamos que los pesos del discriminador \n",
        "               serán no entrenables en el modelo combinado.\n",
        "               Indicaremos que las etiquetas(labels) para las imágenes creadas por el generador \n",
        "               seran verdaderas e.g 1. (porque deseamos hacer pasarlas por reales)\n",
        "             \n",
        "               En un una iteración el discriminador está entrenado para distinguir \n",
        "               imágenes verdaderas y falsas.\n",
        "               El generador a partir de ruido genera una imagen. En este momento\n",
        "               no sabemos si esta imagen es lo suficiente buena para pasar por real, pero queremos hacerla \n",
        "               pasar por real, por lo tanto como etiqueta indicaremos que esta imagen es verdadera e.g 1.\n",
        "               Deseamos que el generador se acerque lo mas posible a generar imágenes reales.\n",
        "               Posteriormente esta imagen pasa al discriminador a través del modelo combinado y el \n",
        "               discriminador podrá decirnos si es verdadera o falsa.\n",
        "               Utilizando esa información que nos da el discriminador, modificaremos los pesos del generador \n",
        "               para que la próxima iteración podamos acercarnos más a engañar al discriminador.'''\n",
        "            \n",
        "\n",
        "            g_loss = self.combined.train_on_batch(x='''TODO''', y='''TODO''')\n",
        "\n",
        "            '''TODO: Posteriormente de haber realizado una actualización de los pesos del generador, generaremos un batch de\n",
        "               imágenes (falsas) a partir de ruido.''' \n",
        "            gen_imgs = self.generator.predict('''TODO''')\n",
        "\n",
        "            \n",
        "            '''TODO: Entrenamos al discriminador para que aprenda a clasificar \n",
        "               correctamente imágenes verdaderas. Para esto debemos enviarle ejemplos\n",
        "               de imágenes reales. Las imágenes verdaderas son las imágenes\n",
        "               que se obtienen del dataset MNIST. Debemos indicarle al discriminador \n",
        "               que estas imágenes son verdaderas, esto lo hacemos asignando a cada imagen una etiqueta\n",
        "               verdadera e.g 1'''\n",
        "            d_loss_real = self.discriminator.train_on_batch(x='''TODO''', y='''TODO''')\n",
        "\n",
        "            '''TODO: Entrenamos al discriminador para que aprenda a identificar\n",
        "               correctamente imágenes falsas. Para esto debemos enviarle ejemplos\n",
        "               de imágenes falsas. Las imágenes falsas son las imágenes\n",
        "               que se obtienen del generador. Debemos indicarle al discriminador \n",
        "               que estas imágenes son falsas, esto lo hacemos asignando a cada imagen una etiqueta\n",
        "               falsa e.g 0'''\n",
        "            d_loss_fake = self.discriminator.train_on_batch(x='''TODO''', y='''TODO''')\n",
        "\n",
        "            ### valor de perdida del discriminador\n",
        "            d_loss = 0.5 * np.add(d_loss_real, d_loss_fake)\n",
        "            \n",
        "            if epoch % 50 == 0:\n",
        "                print(\"%d [D loss: %f, acc.: %.2f%%] [G loss: %f]\" % (epoch, d_loss[0], 100 * d_loss[1], g_loss))\n",
        "            if epoch % sample_interval == 0:\n",
        "                self.sample_images(epoch)\n",
        "\n",
        "    def sample_images(self, epoch):\n",
        "        ### Función que crea un archivo .png con ejemplos de imágenes nuevas generadas por\n",
        "        ### el generador\n",
        "        r, c = 5, 5\n",
        "        noise = np.random.normal(0, 1, (r * c, self.latent_dim))\n",
        "        gen_imgs = self.generator.predict(noise)\n",
        "        gen_imgs = 0.5 * gen_imgs + 0.5\n",
        "        fig, axs = plt.subplots(r, c)\n",
        "        cnt = 0\n",
        "        for i in range(r):\n",
        "            for j in range(c):\n",
        "                axs[i, j].imshow(gen_imgs[cnt, :, :, 0], cmap='gray')\n",
        "                axs[i, j].axis('off')\n",
        "                cnt += 1\n",
        "        fig.savefig(\"/content/drive/My Drive/%d.png\" % epoch)\n",
        "        plt.close()"
      ],
      "execution_count": null,
      "outputs": []
    },
    {
      "cell_type": "code",
      "metadata": {
        "id": "r68GIhOuUiHM"
      },
      "source": [
        "### Al finalizar el entrenamiento vea las imágenes resultantes \n",
        "### creadas por el generador a través de cada iteración en su directorio de Google Drive.\n",
        "\n",
        "gan = GAN()\n",
        "gan.train(epochs=100000, batch_size=132, sample_interval=10000)"
      ],
      "execution_count": null,
      "outputs": []
    }
  ]
}