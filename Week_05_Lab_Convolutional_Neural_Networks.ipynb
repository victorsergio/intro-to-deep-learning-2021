{
  "nbformat": 4,
  "nbformat_minor": 0,
  "metadata": {
    "colab": {
      "name": "Week-05-Lab-Convolutional_Neural_Networks.ipynb",
      "provenance": [],
      "collapsed_sections": [],
      "include_colab_link": true
    },
    "kernelspec": {
      "name": "python3",
      "display_name": "Python 3"
    },
    "accelerator": "GPU"
  },
  "cells": [
    {
      "cell_type": "markdown",
      "metadata": {
        "id": "view-in-github",
        "colab_type": "text"
      },
      "source": [
        "<a href=\"https://colab.research.google.com/github/victorsergio/intro-to-deep-learning-2021/blob/main/Week_05_Lab_Convolutional_Neural_Networks.ipynb\" target=\"_parent\"><img src=\"https://colab.research.google.com/assets/colab-badge.svg\" alt=\"Open In Colab\"/></a>"
      ]
    },
    {
      "cell_type": "markdown",
      "metadata": {
        "id": "JKZW_w0WaGXz"
      },
      "source": [
        "# Semana 05: Predicción de clima mostrado en una imagen con Redes Neuronales Convolucionales\r\n",
        "\r\n",
        "En este laboratorio realizará una predicción del clima mostrado en una imagen utilizando una Red Neuronal Convolucional CNN creada con Tensorflow.\r\n",
        "\r\n",
        "Esta CNN sera entrenada con un conjunto de datos formado por imágenes a color (RGB) de paisajes con 4 tipos diferentes de clima, (nuboso, lluvioso, soleado, amanecer).\r\n",
        "\r\n",
        "**Este laboratorio consta de 2 partes. En la primera parte creará la clasificación utilizando la información completa de todos los canales de las imágenes, en la segunda parte realizará un nuevo experimento ejecutando el mismo modelo (con los mismos hiperparámetros) pero esta vez convirtiendo las imágenes a escala de grises.**\r\n",
        "\r\n",
        "Temas de aprendizaje objetivo:\r\n",
        "- Visualización de métricas con Tensorboard\r\n",
        "- Callbacks\r\n",
        "- Early Stopping\r\n",
        "- Redes Neuronales Convolucionales\r\n",
        "- Kernels, padding, stride, funciones de activación\r\n",
        "- Sequential Model\r\n",
        "- Data Generators, entrenamiento, validación y prueba.\r\n",
        "- Matriz de confusión\r\n",
        "- Predicciones y vector de probabilidades\r\n",
        "- Lectura de imágenes desde archivos para un problema de   aprendizaje supervisado\r\n",
        "-  Preprocesamiento de imágenes (scaling)\r\n",
        "- Dropout\r\n",
        "- Evaluate vs Predict\r\n",
        "- Funciones de pérdida a optimizar\r\n",
        "\r\n",
        "\r\n",
        "\r\n"
      ]
    },
    {
      "cell_type": "markdown",
      "metadata": {
        "id": "OU82uPF5efew"
      },
      "source": [
        "### Parte 1: Imágenes en modo RGB"
      ]
    },
    {
      "cell_type": "code",
      "metadata": {
        "id": "OekpbkRY-aTG"
      },
      "source": [
        "# - Importe la librería tensorflow.\r\n",
        "#   https://www.tensorflow.org/tutorials/quickstart/advanced\r\n",
        "\r\n",
        "# code:\r\n",
        "\r\n"
      ],
      "execution_count": 1,
      "outputs": []
    },
    {
      "cell_type": "code",
      "metadata": {
        "id": "lQOivh5T-PHU"
      },
      "source": [
        "# - Cargue la extensión Tensorboard para el notebook.\r\n",
        "# - Importe la librería datetime.\r\n",
        "# - Cree el objeto log_dir. \r\n",
        "# - Cree el objeto callback tensorboard_callback.\r\n",
        "#   https://www.tensorflow.org/tensorboard/get_started\r\n",
        "\r\n",
        "# code:\r\n",
        "\r\n",
        "\r\n"
      ],
      "execution_count": 2,
      "outputs": []
    },
    {
      "cell_type": "code",
      "metadata": {
        "id": "Goc16mP--jO_"
      },
      "source": [
        "# - Ejecute el panel de TensorBoard para observar las gráficas de accuracy y loss.\r\n",
        "#   https://www.tensorflow.org/tensorboard/get_started\r\n",
        "\r\n",
        "\r\n",
        "# code:\r\n"
      ],
      "execution_count": null,
      "outputs": []
    },
    {
      "cell_type": "code",
      "metadata": {
        "id": "D-Sn94yYR88P"
      },
      "source": [
        "# - Descargue el conjunto de datos de clima de aquí: https://github.com/victorsergio/intro-to-deep-learning-2021/raw/main/weather-data.zip\r\n",
        "#   , utilizando el comando wget.\r\n",
        "#   https://www.tutorialspoint.com/google_colab/google_colab_invoking_system_commands.htm\r\n",
        "\r\n",
        "\r\n",
        "# code:\r\n",
        "\r\n"
      ],
      "execution_count": null,
      "outputs": []
    },
    {
      "cell_type": "code",
      "metadata": {
        "id": "klpf747XSDRK"
      },
      "source": [
        "# - Extraiga el conjunto de datos descargado previamente con el comando unzip.\r\n",
        "#   Puede observar los archivos extraidos en el navegador de archivos que esta a la derecha.\r\n",
        "#   Observe la estructura de archivos usada para resolver un problema de clasificación con aprendizaje supervisado.\r\n",
        "#   https://linuxize.com/post/how-to-unzip-files-in-linux/\r\n",
        "\r\n",
        "# code:\r\n",
        "\r\n"
      ],
      "execution_count": null,
      "outputs": []
    },
    {
      "cell_type": "code",
      "metadata": {
        "id": "DBJQnS9eKdgE"
      },
      "source": [
        "# - Cree un objeto data_preprocessor, re-escale los valores de los píxel a un rango entre 0-1, \r\n",
        "#   especifique una partición para el conjunto de datos de validación, por ejemplo 20%\r\n",
        "#   https://www.tensorflow.org/api_docs/python/tf/keras/preprocessing/image/ImageDataGenerator\r\n",
        "\r\n",
        "# code:\r\n",
        "data_preprocessor = "
      ],
      "execution_count": 6,
      "outputs": []
    },
    {
      "cell_type": "code",
      "metadata": {
        "id": "Vu5ovd3hELhr"
      },
      "source": [
        "# - Cree un generador de datos de entrenamiento, que lea las imágenes desde un directorio\r\n",
        "#   utilizando el metodo flow_from_directory del objeto creato anteriormente data_preprocessor\r\n",
        "#   https://www.tensorflow.org/api_docs/python/tf/keras/preprocessing/image/ImageDataGenerator\r\n",
        "\r\n",
        "# - Parámetros:\r\n",
        "#   - Tamaño de imagen (considere reducir el tamaño de las imágenes (i.e. 48px x 48px)\r\n",
        "#   - Tamaño de batch\r\n",
        "#   - class mode\r\n",
        "#   - color_mode\r\n",
        "#   - seed\r\n",
        "#   - shuffle\r\n",
        "#   - subset\r\n",
        "\r\n",
        "# code:\r\n",
        "train_generator = \r\n"
      ],
      "execution_count": null,
      "outputs": []
    },
    {
      "cell_type": "code",
      "metadata": {
        "id": "Cz-BGc8xqiZO"
      },
      "source": [
        "# - Cree el generador para los datos de validación\r\n",
        "\r\n",
        "# code:\r\n",
        "validation_generator = \r\n"
      ],
      "execution_count": null,
      "outputs": []
    },
    {
      "cell_type": "code",
      "metadata": {
        "id": "p_Tv6qdSsNN9"
      },
      "source": [
        "\r\n",
        "# - Cree un nuevo objeto data_preprocessor para ser utilizado con los datos de entrenamiento, re-escale los valores de los píxel a un rango entre 0-1,\r\n",
        "#   No debe crear un subset. \r\n",
        "#   https://www.tensorflow.org/api_docs/python/tf/keras/preprocessing/image/ImageDataGenerator\r\n",
        "\r\n",
        "# code:\r\n",
        "test_data_preprocessor = "
      ],
      "execution_count": 10,
      "outputs": []
    },
    {
      "cell_type": "code",
      "metadata": {
        "id": "c8R-weMRr44d"
      },
      "source": [
        "# - Cree un generador de datos de prueba, que lea las imágenes desde un directorio\r\n",
        "#   utilizando el metodo flow_from_directory del objeto creado anteriormente test_data_preprocessor.\r\n",
        "# - Recuerde que no deseamos que el conjunto de datos de prueba sea aleatorizado y deseamos entregar\r\n",
        "#   un ejemplo por vez con batch_size.\r\n",
        "# - No hay un subset.\r\n",
        "#   https://www.tensorflow.org/api_docs/python/tf/keras/preprocessing/image/ImageDataGenerator\r\n",
        "\r\n",
        "# - Parámetros:\r\n",
        "#   - Tamaño de imagen\r\n",
        "#   - Tamaño de batch\r\n",
        "#   - class mode\r\n",
        "#   - color_mode\r\n",
        "#   - seed\r\n",
        "#   - shuffle\r\n",
        "\r\n",
        "# code:\r\n",
        "test_generator = "
      ],
      "execution_count": null,
      "outputs": []
    },
    {
      "cell_type": "code",
      "metadata": {
        "id": "Oer7mjIbFhwN"
      },
      "source": [
        "# - Ejecute lo siguiente para observar un batch devuelto por el generador de entrenamiento, analice el significado de lo mostrado.\r\n",
        "\r\n",
        "sample = train_generator.next()\r\n",
        "sample"
      ],
      "execution_count": null,
      "outputs": []
    },
    {
      "cell_type": "code",
      "metadata": {
        "id": "AQB9wdvnH5P6"
      },
      "source": [
        "# - Defina la estructura de su modelo convolucional,\r\n",
        "#   Aspectos a tomar en cuenta:\r\n",
        "#    - Uso del modelo secuencial: https://www.tensorflow.org/api_docs/python/tf/keras/Sequential\r\n",
        "#    - Estructura canónica de una red convolucional para clasificación, (convolución, activación, pooling) 1 o mas veces\r\n",
        "#      vectorización, capa densa, activación, capa densa, softmax.\r\n",
        "#    - Tamaño de kernel. \r\n",
        "#    - Función de activación para los bloques convolucionales.\r\n",
        "#    - Shape de entrada (tamaño de imagen, número de canales).\r\n",
        "#    - Ventana de pooling.\r\n",
        "#    - Padding.\r\n",
        "#    - Dropout, si es deseado.\r\n",
        "#    - Número de salidas de la ultima capa densa.\r\n",
        "#    - Función de activación de la ultima capa densa.\r\n",
        "#    https://www.tensorflow.org/api_docs/python/tf/keras/layers/Conv2D\r\n",
        "#    https://www.tensorflow.org/tutorials/images/cnn\r\n",
        "\r\n",
        "# code:\r\n",
        "\r\n",
        "\r\n",
        "\r\n"
      ],
      "execution_count": 13,
      "outputs": []
    },
    {
      "cell_type": "code",
      "metadata": {
        "id": "D5xQrf_e1isz"
      },
      "source": [
        "# - Ejectute lo siguiente para observar la definición del modelo creado anteriormente.\r\n",
        "model.summary()"
      ],
      "execution_count": null,
      "outputs": []
    },
    {
      "cell_type": "code",
      "metadata": {
        "id": "QES2osuf_1wf"
      },
      "source": [
        "\r\n",
        "# - Cree un callback early stopping, para monitorear la pérdida de validación val_loss, para evitar el overfitting.\r\n",
        "# - Parámetros:\r\n",
        "#   - monitor\r\n",
        "#   - patience\r\n",
        "#   - restore_best_weights\r\n",
        "#   https://www.tensorflow.org/api_docs/python/tf/keras/callbacks/EarlyStopping\r\n",
        "\r\n",
        "# code:\r\n",
        "\r\n",
        "early_stopping_callback = "
      ],
      "execution_count": 15,
      "outputs": []
    },
    {
      "cell_type": "code",
      "metadata": {
        "id": "EkeC6LEYlkLA"
      },
      "source": [
        "# - Defina con el método compile, el optimizador Adam, learning rate, la función de pérdida a minimizar, el parámetro from_logits\r\n",
        "#   , y la métrica a mostrar en el entrenamiento.\r\n",
        "# https://www.tensorflow.org/api_docs/python/tf/keras/Model#compile\r\n",
        "# https://www.tensorflow.org/api_docs/python/tf/keras/losses/CategoricalCrossentropy\r\n",
        "# https://www.tensorflow.org/api_docs/python/tf/keras/optimizers/Adam\r\n",
        "\r\n",
        "\r\n",
        "# code:\r\n",
        "\r\n"
      ],
      "execution_count": 16,
      "outputs": []
    },
    {
      "cell_type": "code",
      "metadata": {
        "id": "MWxFGU23lqyh"
      },
      "source": [
        "# - Entrene el modelo con el metodo fit.\r\n",
        "#   - Especifique el generador de entrenamiento, \r\n",
        "#     generador de validación,\r\n",
        "#     número de épocas a entrenar,\r\n",
        "#     callback de tensorboard,\r\n",
        "#     callback de early stoppinng.\r\n",
        "\r\n",
        "#   https://www.tensorflow.org/api_docs/python/tf/keras/Model#fit\r\n",
        "\r\n",
        "\r\n",
        "# code:\r\n",
        "history = \r\n"
      ],
      "execution_count": null,
      "outputs": []
    },
    {
      "cell_type": "code",
      "metadata": {
        "id": "cDGl9vkbrscK"
      },
      "source": [
        "# - Evalúe los resultados con el método evaluate, sobre los datos entregados por el generador de datos de prueba.\r\n",
        "#   https://www.tensorflow.org/api_docs/python/tf/keras/Model#evaluate\r\n",
        "\r\n",
        "\r\n",
        "# code:\r\n",
        "\r\n",
        "\r\n"
      ],
      "execution_count": null,
      "outputs": []
    },
    {
      "cell_type": "code",
      "metadata": {
        "id": "B2oJ5Jneunh3"
      },
      "source": [
        "# - Obtenga las predicciones entregadas por su modelo con el método predict sobre los datos del generador de prueba.\r\n",
        "#   https://www.tensorflow.org/api_docs/python/tf/keras/Model#predict\r\n",
        "\r\n",
        "# code:\r\n",
        "probs = \r\n"
      ],
      "execution_count": 19,
      "outputs": []
    },
    {
      "cell_type": "code",
      "metadata": {
        "id": "sWlXAp8evLnn"
      },
      "source": [
        "# - Debe obtener la misma cantidad de predicciones que la cantidad de elementos en su conjunto de prueba,\r\n",
        "#   debe obtener una probabilidad por cada clase, para cada ejemplo en el conjunto de prueba, analice el significado\r\n",
        "#   de la salida mostrada.\r\n",
        "\r\n",
        "print(probs.shape)\r\n"
      ],
      "execution_count": null,
      "outputs": []
    },
    {
      "cell_type": "code",
      "metadata": {
        "id": "pCxCbRvF4jbv"
      },
      "source": [
        "# - Observe los vectores de probabilidades predichos, analice el significado de la salida mostrada.\r\n",
        "probs"
      ],
      "execution_count": null,
      "outputs": []
    },
    {
      "cell_type": "code",
      "metadata": {
        "id": "QKyoMCAUvQiw"
      },
      "source": [
        "# importe la librería numpy\r\n",
        "# https://numpy.org/doc/stable/user/absolute_beginners.html\r\n",
        "\r\n",
        "# code:\r\n",
        "\r\n"
      ],
      "execution_count": 22,
      "outputs": []
    },
    {
      "cell_type": "code",
      "metadata": {
        "id": "TiwShXKVPd9H"
      },
      "source": [
        "# - Con argmax se puede obtener la posición del elemento en el vector de probabilidades que tenga el valor mayor.\r\n",
        "#   Utilicelo para obtener la representacion entera de la etiqueta con mayor probabilidad en cada vector.\r\n",
        "#   https://numpy.org/doc/stable/reference/generated/numpy.argmax.html\r\n",
        "\r\n",
        "# code:\r\n",
        "predicted_labels = "
      ],
      "execution_count": 28,
      "outputs": []
    },
    {
      "cell_type": "code",
      "metadata": {
        "id": "eNyJk5hx4pTk"
      },
      "source": [
        "# - Observe las clases que predice su modelo\r\n",
        "predicted_labels"
      ],
      "execution_count": null,
      "outputs": []
    },
    {
      "cell_type": "code",
      "metadata": {
        "id": "QD1D5KG3vX3U"
      },
      "source": [
        "# - Observe que debe obtener una predicción para cada ejemplo en el conjunto de datos de prueba\r\n",
        "predicted_labels.shape"
      ],
      "execution_count": null,
      "outputs": []
    },
    {
      "cell_type": "code",
      "metadata": {
        "id": "1nd39oyzvw4E"
      },
      "source": [
        "# - Estas son las etiquetas verdaderas para cada ejemplo en conjunto de prueba, estan ordenadas debido\r\n",
        "#   a que no aleatorizamos el generador del conjunto de datos de prueba en la definición.\r\n",
        "#   Observe visualmente la similitud entre las etiquetas que predice su modelo (ver matriz anterior) y las etiquetas\r\n",
        "#   base mostradas aquí. Analice y observe las diferencias.\r\n",
        "\r\n",
        "\r\n",
        "test_generator.classes"
      ],
      "execution_count": null,
      "outputs": []
    },
    {
      "cell_type": "code",
      "metadata": {
        "id": "5fVTyMZUxTZb"
      },
      "source": [
        "# - Es de utilidad conocer la relación  del número entero que representa a cada clase con su string.\r\n",
        "\r\n",
        "test_generator.class_indices"
      ],
      "execution_count": null,
      "outputs": []
    },
    {
      "cell_type": "code",
      "metadata": {
        "id": "01lbzsKHsxWb"
      },
      "source": [
        "# - Importe confusion_matrix del paquete sklearn y cree la matriz de confusión, esta matriz se visualizará de una forma numérica simple.\r\n",
        "#   https://scikit-learn.org/stable/modules/generated/sklearn.metrics.confusion_matrix.html\r\n",
        "\r\n",
        "# code:\r\n",
        "from \r\n",
        "\r\n",
        "# Calculate the confusion matrix. confusion_matrix()\r\n",
        "cm = "
      ],
      "execution_count": 35,
      "outputs": []
    },
    {
      "cell_type": "code",
      "metadata": {
        "id": "RC_VaxXNz70Z"
      },
      "source": [
        "# Aquí se desplegara la matriz de confusión en forma numérica\r\n",
        "cm"
      ],
      "execution_count": null,
      "outputs": []
    },
    {
      "cell_type": "code",
      "metadata": {
        "id": "hkHNYm8cxiE8"
      },
      "source": [
        "# - Se obtienen los strings que reprsentan a cada clase\r\n",
        "class_names = test_generator.class_indices.keys()\r\n",
        "print(class_names)"
      ],
      "execution_count": null,
      "outputs": []
    },
    {
      "cell_type": "code",
      "metadata": {
        "id": "A4gOT7eKKC99"
      },
      "source": [
        "# - Función que devuelve el número entero que corresponde a un string que representa a una clase.\r\n",
        "def getKey(dct,value):\r\n",
        "     return [key for key in dct if (dct[key] == value)]"
      ],
      "execution_count": 40,
      "outputs": []
    },
    {
      "cell_type": "code",
      "metadata": {
        "id": "SArnlU9d12gn"
      },
      "source": [
        "# - Con la librería Seaborn se muestra la matriz de confusión con una mejor visualizacion gráfica, esta matriz de confusión esta normalizada.\r\n",
        "#   Observe y analice que parámetros recibe sns.heatmap()\r\n",
        "#   Analice los resultados.\r\n",
        "\r\n",
        "import seaborn as sns\r\n",
        "sns.heatmap(cm/cm.astype(np.float).sum(axis=1), annot=True, fmt='.2%',xticklabels=class_names, yticklabels=class_names)"
      ],
      "execution_count": null,
      "outputs": []
    },
    {
      "cell_type": "code",
      "metadata": {
        "id": "7_y78MaK2YYP"
      },
      "source": [
        "# - Esta matriz de confusión no esta normalizada, observe la diferencia entre los parámetros enviados a sns.heatmap anteriormente.\r\n",
        "#   Analice los resultados.\r\n",
        "sns.heatmap(cm, annot=True,xticklabels=class_names, yticklabels=class_names)"
      ],
      "execution_count": null,
      "outputs": []
    },
    {
      "cell_type": "code",
      "metadata": {
        "id": "exIp1FF9F4N5"
      },
      "source": [
        "# - Este método utiliza la librería matplot lib para mostrar de forma gráfica un vector de probabilidades \r\n",
        "#   para un ejemplo específico, también muestra la etiqueta base, aquí puede observar los\r\n",
        "#   ejemplos en los que su modelo comete errores.\r\n",
        "\r\n",
        "from matplotlib import pyplot as plt\r\n",
        "\r\n",
        "def show_probabilities_graph(class_ids,probs,true_label):\r\n",
        "  plt.rcdefaults()\r\n",
        "  fig, ax = plt.subplots()\r\n",
        "\r\n",
        "  y_pos = np.arange(len(class_ids))\r\n",
        "\r\n",
        "\r\n",
        "  ax.barh(y_pos, probs, align='center', color='green', ecolor='black')\r\n",
        "  ax.set_yticks(y_pos)\r\n",
        "  ax.set_yticklabels(class_ids)\r\n",
        "  ax.invert_yaxis()  # labels read top-to-bottom\r\n",
        "  ax.set_xlabel('Prob')\r\n",
        "  ax.set_title('True label: '+true_label)\r\n",
        "\r\n",
        "  plt.show()"
      ],
      "execution_count": 43,
      "outputs": []
    },
    {
      "cell_type": "code",
      "metadata": {
        "id": "riqumTWmMInO"
      },
      "source": [
        "# - Reinicio del generador para recorrer los ejemplos del conjunto de prueba secuencialmente.\r\n",
        "test_generator.reset()\r\n",
        "i = - 1  # to start in 0 position"
      ],
      "execution_count": 44,
      "outputs": []
    },
    {
      "cell_type": "code",
      "metadata": {
        "id": "qNyi1Y0xSxaA"
      },
      "source": [
        "# - Obtener y mostrar una imagen del generador\r\n",
        "i = i + 1\r\n",
        "image  = test_generator.next()[0]\r\n",
        "image = image.reshape(image.shape[1:])\r\n",
        "\r\n",
        "plt.figure()\r\n",
        "plt.imshow(image) \r\n",
        "plt.show()\r\n",
        "\r\n",
        "\r\n"
      ],
      "execution_count": null,
      "outputs": []
    },
    {
      "cell_type": "code",
      "metadata": {
        "id": "zgvGyFMsF8Uo"
      },
      "source": [
        "# - Mostrar el vector de probabilidades en forma gráfica para la imagen anterior.\r\n",
        "# - Observe como esto corresponde a los valores de las matrices que se mostraron anteriormente.\r\n",
        "\r\n",
        "# - Ejecute la celda anterior para seleccionar la siguiente imagen del generador y ejecute esta celda para ver los resultados,\r\n",
        "#   puede hacer eso varias veces para ir recorriendo el conjunto de datos de prueba.\r\n",
        "\r\n",
        "\r\n",
        "show_probabilities_graph(class_names,probs[i], str(getKey(test_generator.class_indices,test_generator.classes[i]))+\" \"+str(i) )\r\n"
      ],
      "execution_count": null,
      "outputs": []
    },
    {
      "cell_type": "markdown",
      "metadata": {
        "id": "kvco0sPbdwXB"
      },
      "source": [
        "###Parte 2: Imágenes en modo de escala de grises\r\n",
        "\r\n",
        "En una nueva copia de este notebook, ejecute un experimento en el cual utilice el mismo modelo (misma estructura e hiperparámetros), modificando solamente lo necesario para que el modelo utilice las imagenes en escala de grises.\r\n",
        "\r\n",
        "Compare los resultados, analice las diferencias obtenidas en la matriz de confusión, métricas y fase de entrenamiento. Escriba en la celda de abajo sus hallazgos y conclusiones."
      ]
    },
    {
      "cell_type": "markdown",
      "metadata": {
        "id": "2L95GjtmeRov"
      },
      "source": [
        "###**Escriba aquí las conclusiones obtenidas al observar los resultados de los dos diferentes experimentos:**"
      ]
    }
  ]
}